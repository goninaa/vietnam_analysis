{
 "nbformat": 4,
 "nbformat_minor": 2,
 "metadata": {
  "language_info": {
   "name": "python",
   "codemirror_mode": {
    "name": "ipython",
    "version": 3
   },
   "version": "3.7.2"
  },
  "orig_nbformat": 2,
  "file_extension": ".py",
  "mimetype": "text/x-python",
  "name": "python",
  "npconvert_exporter": "python",
  "pygments_lexer": "ipython3",
  "version": 3
 },
 "cells": [
  {
   "cell_type": "code",
   "execution_count": null,
   "metadata": {},
   "outputs": [],
   "source": []
  },
  {
   "cell_type": "code",
   "execution_count": 0,
   "metadata": {},
   "outputs": [],
   "source": [
    "import pandas as pd\n",
    "df = pd.read_csv('Data_Frame_1.csv')"
   ]
  },
  {
   "cell_type": "code",
   "execution_count": 2,
   "metadata": {},
   "outputs": [
    {
     "data": {
      "text/html": "<div>\n<style scoped>\n    .dataframe tbody tr th:only-of-type {\n        vertical-align: middle;\n    }\n\n    .dataframe tbody tr th {\n        vertical-align: top;\n    }\n\n    .dataframe thead th {\n        text-align: right;\n    }\n</style>\n<table border=\"1\" class=\"dataframe\">\n  <thead>\n    <tr style=\"text-align: right;\">\n      <th></th>\n      <th>Unnamed: 0</th>\n      <th>start_time</th>\n      <th>end_time</th>\n      <th>activity</th>\n      <th>real_start</th>\n      <th>real_end</th>\n    </tr>\n  </thead>\n  <tbody>\n    <tr>\n      <th>0</th>\n      <td>11:31:50.260803</td>\n      <td>0 days 00:01:45.260803000</td>\n      <td>0 days 00:01:45.286400000</td>\n      <td>empty</td>\n      <td>0 days 11:31:50.260803000</td>\n      <td>0 days 11:31:50.286400000</td>\n    </tr>\n    <tr>\n      <th>1</th>\n      <td>11:31:50.260803</td>\n      <td>0 days 00:01:45.260803000</td>\n      <td>0 days 00:01:45.286400000</td>\n      <td>empty</td>\n      <td>0 days 11:31:50.260803000</td>\n      <td>0 days 11:31:50.286400000</td>\n    </tr>\n    <tr>\n      <th>2</th>\n      <td>11:33:35.252502</td>\n      <td>0 days 00:01:45.252502000</td>\n      <td>0 days 00:01:45.278099000</td>\n      <td>empty</td>\n      <td>0 days 11:33:35.252502000</td>\n      <td>0 days 11:33:35.278099000</td>\n    </tr>\n    <tr>\n      <th>3</th>\n      <td>11:35:20.237099</td>\n      <td>0 days 00:01:45.237099000</td>\n      <td>0 days 00:01:45.262703000</td>\n      <td>empty</td>\n      <td>0 days 11:35:20.237099000</td>\n      <td>0 days 11:35:20.262703000</td>\n    </tr>\n    <tr>\n      <th>4</th>\n      <td>11:37:06.277397</td>\n      <td>0 days 00:01:45.277397000</td>\n      <td>0 days 00:01:45.303001000</td>\n      <td>empty</td>\n      <td>0 days 11:37:06.277397000</td>\n      <td>0 days 11:37:06.303001000</td>\n    </tr>\n  </tbody>\n</table>\n</div>",
      "text/plain": "        Unnamed: 0                 start_time                   end_time  \\\n0  11:31:50.260803  0 days 00:01:45.260803000  0 days 00:01:45.286400000   \n1  11:31:50.260803  0 days 00:01:45.260803000  0 days 00:01:45.286400000   \n2  11:33:35.252502  0 days 00:01:45.252502000  0 days 00:01:45.278099000   \n3  11:35:20.237099  0 days 00:01:45.237099000  0 days 00:01:45.262703000   \n4  11:37:06.277397  0 days 00:01:45.277397000  0 days 00:01:45.303001000   \n\n  activity                 real_start                   real_end  \n0    empty  0 days 11:31:50.260803000  0 days 11:31:50.286400000  \n1    empty  0 days 11:31:50.260803000  0 days 11:31:50.286400000  \n2    empty  0 days 11:33:35.252502000  0 days 11:33:35.278099000  \n3    empty  0 days 11:35:20.237099000  0 days 11:35:20.262703000  \n4    empty  0 days 11:37:06.277397000  0 days 11:37:06.303001000  "
     },
     "execution_count": 2,
     "metadata": {},
     "output_type": "execute_result"
    }
   ],
   "source": [
    "df.head()"
   ]
  },
  {
   "cell_type": "code",
   "execution_count": 0,
   "metadata": {},
   "outputs": [],
   "source": [
    "df.rename(columns={'Unnamed: 0' :'time'}, inplace=True)"
   ]
  },
  {
   "cell_type": "code",
   "execution_count": 0,
   "metadata": {},
   "outputs": [],
   "source": [
    "df['time'] = pd.to_timedelta(df['time'])"
   ]
  },
  {
   "cell_type": "code",
   "execution_count": 0,
   "metadata": {},
   "outputs": [],
   "source": [
    "df['time'].dt.components"
   ]
  },
  {
   "cell_type": "code",
   "execution_count": 0,
   "metadata": {},
   "outputs": [],
   "source": [
    "df['time'] = df['time'] - pd.to_timedelta(df['time'].dt.days, unit='d')"
   ]
  },
  {
   "cell_type": "code",
   "execution_count": 0,
   "metadata": {},
   "outputs": [],
   "source": [
    "df = df.sort_values('time')"
   ]
  },
  {
   "cell_type": "code",
   "execution_count": 0,
   "metadata": {},
   "outputs": [],
   "source": [
    "df.tail()"
   ]
  },
  {
   "cell_type": "code",
   "execution_count": 0,
   "metadata": {},
   "outputs": [],
   "source": [
    "df.to_csv('Data_Frame_1_fixed.csv')"
   ]
  },
  {
   "cell_type": "code",
   "execution_count": null,
   "metadata": {},
   "outputs": [],
   "source": []
  }
 ]
}