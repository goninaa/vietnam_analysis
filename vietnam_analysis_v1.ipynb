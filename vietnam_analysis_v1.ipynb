{
 "nbformat": 4,
 "nbformat_minor": 2,
 "metadata": {
  "language_info": {
   "name": "python",
   "codemirror_mode": {
    "name": "ipython",
    "version": 3
   },
   "version": "3.7.2"
  },
  "orig_nbformat": 2,
  "file_extension": ".py",
  "mimetype": "text/x-python",
  "name": "python",
  "npconvert_exporter": "python",
  "pygments_lexer": "ipython3",
  "version": 3
 },
 "cells": [
  {
   "cell_type": "code",
   "execution_count": null,
   "metadata": {},
   "outputs": [],
   "source": []
  },
  {
   "cell_type": "code",
   "execution_count": 1,
   "metadata": {},
   "outputs": [],
   "source": [
    "import pandas as pd\n",
    "df = pd.read_csv('Data_Frame_29.csv')"
   ]
  },
  {
   "cell_type": "code",
   "execution_count": 2,
   "metadata": {},
   "outputs": [
    {
     "data": {
      "text/html": "<div>\n<style scoped>\n    .dataframe tbody tr th:only-of-type {\n        vertical-align: middle;\n    }\n\n    .dataframe tbody tr th {\n        vertical-align: top;\n    }\n\n    .dataframe thead th {\n        text-align: right;\n    }\n</style>\n<table border=\"1\" class=\"dataframe\">\n  <thead>\n    <tr style=\"text-align: right;\">\n      <th></th>\n      <th>Unnamed: 0</th>\n      <th>start_time</th>\n      <th>end_time</th>\n      <th>activity</th>\n      <th>real_start</th>\n      <th>real_end</th>\n    </tr>\n  </thead>\n  <tbody>\n    <tr>\n      <th>0</th>\n      <td>11:31:50.260803</td>\n      <td>0 days 00:01:45.260803000</td>\n      <td>0 days 00:01:45.286400000</td>\n      <td>empty</td>\n      <td>0 days 11:31:50.260803000</td>\n      <td>0 days 11:31:50.286400000</td>\n    </tr>\n    <tr>\n      <th>1</th>\n      <td>11:31:50.260803</td>\n      <td>0 days 00:01:45.260803000</td>\n      <td>0 days 00:01:45.286400000</td>\n      <td>empty</td>\n      <td>0 days 11:31:50.260803000</td>\n      <td>0 days 11:31:50.286400000</td>\n    </tr>\n    <tr>\n      <th>2</th>\n      <td>11:33:35.252502</td>\n      <td>0 days 00:01:45.252502000</td>\n      <td>0 days 00:01:45.278099000</td>\n      <td>empty</td>\n      <td>0 days 11:33:35.252502000</td>\n      <td>0 days 11:33:35.278099000</td>\n    </tr>\n    <tr>\n      <th>3</th>\n      <td>11:35:20.237099</td>\n      <td>0 days 00:01:45.237099000</td>\n      <td>0 days 00:01:45.262703000</td>\n      <td>empty</td>\n      <td>0 days 11:35:20.237099000</td>\n      <td>0 days 11:35:20.262703000</td>\n    </tr>\n    <tr>\n      <th>4</th>\n      <td>11:37:06.277397</td>\n      <td>0 days 00:01:45.277397000</td>\n      <td>0 days 00:01:45.303001000</td>\n      <td>empty</td>\n      <td>0 days 11:37:06.277397000</td>\n      <td>0 days 11:37:06.303001000</td>\n    </tr>\n  </tbody>\n</table>\n</div>",
      "text/plain": "        Unnamed: 0                 start_time                   end_time  \\\n0  11:31:50.260803  0 days 00:01:45.260803000  0 days 00:01:45.286400000   \n1  11:31:50.260803  0 days 00:01:45.260803000  0 days 00:01:45.286400000   \n2  11:33:35.252502  0 days 00:01:45.252502000  0 days 00:01:45.278099000   \n3  11:35:20.237099  0 days 00:01:45.237099000  0 days 00:01:45.262703000   \n4  11:37:06.277397  0 days 00:01:45.277397000  0 days 00:01:45.303001000   \n\n  activity                 real_start                   real_end  \n0    empty  0 days 11:31:50.260803000  0 days 11:31:50.286400000  \n1    empty  0 days 11:31:50.260803000  0 days 11:31:50.286400000  \n2    empty  0 days 11:33:35.252502000  0 days 11:33:35.278099000  \n3    empty  0 days 11:35:20.237099000  0 days 11:35:20.262703000  \n4    empty  0 days 11:37:06.277397000  0 days 11:37:06.303001000  "
     },
     "execution_count": 2,
     "metadata": {},
     "output_type": "execute_result"
    }
   ],
   "source": [
    "df.head()"
   ]
  },
  {
   "cell_type": "code",
   "execution_count": 3,
   "metadata": {},
   "outputs": [],
   "source": [
    "df.rename(columns={'Unnamed: 0' :'time'}, inplace=True)"
   ]
  },
  {
   "cell_type": "code",
   "execution_count": 4,
   "metadata": {},
   "outputs": [],
   "source": [
    "df['time'] = pd.to_timedelta(df['time'])"
   ]
  },
  {
   "cell_type": "code",
   "execution_count": 5,
   "metadata": {},
   "outputs": [
    {
     "data": {
      "text/html": "<div>\n<style scoped>\n    .dataframe tbody tr th:only-of-type {\n        vertical-align: middle;\n    }\n\n    .dataframe tbody tr th {\n        vertical-align: top;\n    }\n\n    .dataframe thead th {\n        text-align: right;\n    }\n</style>\n<table border=\"1\" class=\"dataframe\">\n  <thead>\n    <tr style=\"text-align: right;\">\n      <th></th>\n      <th>days</th>\n      <th>hours</th>\n      <th>minutes</th>\n      <th>seconds</th>\n      <th>milliseconds</th>\n      <th>microseconds</th>\n      <th>nanoseconds</th>\n    </tr>\n  </thead>\n  <tbody>\n    <tr>\n      <th>0</th>\n      <td>0</td>\n      <td>11</td>\n      <td>31</td>\n      <td>50</td>\n      <td>260</td>\n      <td>803</td>\n      <td>0</td>\n    </tr>\n    <tr>\n      <th>1</th>\n      <td>0</td>\n      <td>11</td>\n      <td>31</td>\n      <td>50</td>\n      <td>260</td>\n      <td>803</td>\n      <td>0</td>\n    </tr>\n    <tr>\n      <th>2</th>\n      <td>0</td>\n      <td>11</td>\n      <td>33</td>\n      <td>35</td>\n      <td>252</td>\n      <td>502</td>\n      <td>0</td>\n    </tr>\n    <tr>\n      <th>3</th>\n      <td>0</td>\n      <td>11</td>\n      <td>35</td>\n      <td>20</td>\n      <td>237</td>\n      <td>99</td>\n      <td>0</td>\n    </tr>\n    <tr>\n      <th>4</th>\n      <td>0</td>\n      <td>11</td>\n      <td>37</td>\n      <td>6</td>\n      <td>277</td>\n      <td>397</td>\n      <td>0</td>\n    </tr>\n    <tr>\n      <th>...</th>\n      <td>...</td>\n      <td>...</td>\n      <td>...</td>\n      <td>...</td>\n      <td>...</td>\n      <td>...</td>\n      <td>...</td>\n    </tr>\n    <tr>\n      <th>268</th>\n      <td>0</td>\n      <td>14</td>\n      <td>24</td>\n      <td>26</td>\n      <td>249</td>\n      <td>298</td>\n      <td>0</td>\n    </tr>\n    <tr>\n      <th>269</th>\n      <td>0</td>\n      <td>14</td>\n      <td>25</td>\n      <td>16</td>\n      <td>298</td>\n      <td>241</td>\n      <td>0</td>\n    </tr>\n    <tr>\n      <th>270</th>\n      <td>0</td>\n      <td>14</td>\n      <td>26</td>\n      <td>50</td>\n      <td>398</td>\n      <td>720</td>\n      <td>0</td>\n    </tr>\n    <tr>\n      <th>271</th>\n      <td>0</td>\n      <td>14</td>\n      <td>29</td>\n      <td>43</td>\n      <td>241</td>\n      <td>600</td>\n      <td>0</td>\n    </tr>\n    <tr>\n      <th>272</th>\n      <td>0</td>\n      <td>14</td>\n      <td>29</td>\n      <td>59</td>\n      <td>799</td>\n      <td>40</td>\n      <td>0</td>\n    </tr>\n  </tbody>\n</table>\n<p>273 rows × 7 columns</p>\n</div>",
      "text/plain": "     days  hours  minutes  seconds  milliseconds  microseconds  nanoseconds\n0       0     11       31       50           260           803            0\n1       0     11       31       50           260           803            0\n2       0     11       33       35           252           502            0\n3       0     11       35       20           237            99            0\n4       0     11       37        6           277           397            0\n..    ...    ...      ...      ...           ...           ...          ...\n268     0     14       24       26           249           298            0\n269     0     14       25       16           298           241            0\n270     0     14       26       50           398           720            0\n271     0     14       29       43           241           600            0\n272     0     14       29       59           799            40            0\n\n[273 rows x 7 columns]"
     },
     "execution_count": 5,
     "metadata": {},
     "output_type": "execute_result"
    }
   ],
   "source": [
    "df['time'].dt.components"
   ]
  },
  {
   "cell_type": "code",
   "execution_count": 6,
   "metadata": {},
   "outputs": [],
   "source": [
    "df['time'] = df['time'] - pd.to_timedelta(df['time'].dt.days, unit='d')"
   ]
  },
  {
   "cell_type": "code",
   "execution_count": 7,
   "metadata": {},
   "outputs": [],
   "source": [
    "df = df.sort_values('time')"
   ]
  },
  {
   "cell_type": "code",
   "execution_count": 8,
   "metadata": {},
   "outputs": [
    {
     "data": {
      "text/html": "<div>\n<style scoped>\n    .dataframe tbody tr th:only-of-type {\n        vertical-align: middle;\n    }\n\n    .dataframe tbody tr th {\n        vertical-align: top;\n    }\n\n    .dataframe thead th {\n        text-align: right;\n    }\n</style>\n<table border=\"1\" class=\"dataframe\">\n  <thead>\n    <tr style=\"text-align: right;\">\n      <th></th>\n      <th>time</th>\n      <th>start_time</th>\n      <th>end_time</th>\n      <th>activity</th>\n      <th>real_start</th>\n      <th>real_end</th>\n    </tr>\n  </thead>\n  <tbody>\n    <tr>\n      <th>268</th>\n      <td>14:24:26.249298</td>\n      <td>0 days 00:01:45.249298000</td>\n      <td>0 days 00:01:45.274902000</td>\n      <td>empty</td>\n      <td>0 days 14:24:26.249298000</td>\n      <td>0 days 14:24:26.274902000</td>\n    </tr>\n    <tr>\n      <th>269</th>\n      <td>14:25:16.298241</td>\n      <td>0 days 00:00:50.298241000</td>\n      <td>0 days 00:00:51.141762000</td>\n      <td>search</td>\n      <td>0 days 14:25:16.298241000</td>\n      <td>0 days 14:25:17.141762000</td>\n    </tr>\n    <tr>\n      <th>270</th>\n      <td>14:26:50.398720</td>\n      <td>0 days 00:00:38.398720000</td>\n      <td>0 days 00:00:39.819519000</td>\n      <td>search</td>\n      <td>0 days 14:26:50.398720000</td>\n      <td>0 days 14:26:51.819519000</td>\n    </tr>\n    <tr>\n      <th>271</th>\n      <td>14:29:43.241600</td>\n      <td>0 days 00:01:45.241600000</td>\n      <td>0 days 00:01:45.267197000</td>\n      <td>empty</td>\n      <td>0 days 14:29:43.241600000</td>\n      <td>0 days 14:29:43.267197000</td>\n    </tr>\n    <tr>\n      <th>272</th>\n      <td>14:29:59.799040</td>\n      <td>0 days 00:00:15.799040000</td>\n      <td>0 days 00:00:15.824640000</td>\n      <td>empty</td>\n      <td>0 days 14:29:59.799040000</td>\n      <td>0 days 14:29:59.824640000</td>\n    </tr>\n  </tbody>\n</table>\n</div>",
      "text/plain": "               time                 start_time                   end_time  \\\n268 14:24:26.249298  0 days 00:01:45.249298000  0 days 00:01:45.274902000   \n269 14:25:16.298241  0 days 00:00:50.298241000  0 days 00:00:51.141762000   \n270 14:26:50.398720  0 days 00:00:38.398720000  0 days 00:00:39.819519000   \n271 14:29:43.241600  0 days 00:01:45.241600000  0 days 00:01:45.267197000   \n272 14:29:59.799040  0 days 00:00:15.799040000  0 days 00:00:15.824640000   \n\n    activity                 real_start                   real_end  \n268    empty  0 days 14:24:26.249298000  0 days 14:24:26.274902000  \n269   search  0 days 14:25:16.298241000  0 days 14:25:17.141762000  \n270   search  0 days 14:26:50.398720000  0 days 14:26:51.819519000  \n271    empty  0 days 14:29:43.241600000  0 days 14:29:43.267197000  \n272    empty  0 days 14:29:59.799040000  0 days 14:29:59.824640000  "
     },
     "execution_count": 8,
     "metadata": {},
     "output_type": "execute_result"
    }
   ],
   "source": [
    "df.tail()"
   ]
  },
  {
   "cell_type": "code",
   "execution_count": 0,
   "metadata": {},
   "outputs": [],
   "source": [
    "df.to_csv('Data_Frame_29_fixed.csv')"
   ]
  },
  {
   "cell_type": "code",
   "execution_count": null,
   "metadata": {},
   "outputs": [],
   "source": []
  }
 ]
}